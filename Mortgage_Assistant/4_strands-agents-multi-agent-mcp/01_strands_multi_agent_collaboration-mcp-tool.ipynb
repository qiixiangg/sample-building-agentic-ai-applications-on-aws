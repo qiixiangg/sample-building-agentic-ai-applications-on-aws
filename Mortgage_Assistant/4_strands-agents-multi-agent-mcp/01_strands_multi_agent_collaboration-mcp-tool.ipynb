{
 "cells": [
  {
   "cell_type": "markdown",
   "id": "47aaddce-1d67-407f-a360-9873be52d5a4",
   "metadata": {
    "vscode": {
     "languageId": "raw"
    }
   },
   "source": [
    "Select the Python 3 kernel if you are prompted for a kernel."
   ]
  },
  {
   "cell_type": "markdown",
   "id": "456549b3-edd2-47ad-896f-9e57a19963fb",
   "metadata": {},
   "source": [
    "### Multi-Agent Systems with Strands Agents leveraging Strands custom tools, built-in tools and MCP tools\n"
   ]
  },
  {
   "cell_type": "markdown",
   "id": "5a05483c",
   "metadata": {},
   "source": [
    "The **Strands Agents SDK** supports different multi-agent patterns such as:\n",
    "\n",
    "- [**Swarm**](https://strandsagents.com/latest/user-guide/concepts/multi-agent/swarm/)  \n",
    "- [**Graph**](https://strandsagents.com/latest/user-guide/concepts/multi-agent/graph/)  \n",
    "- [**Workflow**](https://strandsagents.com/latest/user-guide/concepts/multi-agent/workflow/)  \n",
    "- [**Agent as a Tool**](https://strandsagents.com/latest/user-guide/concepts/multi-agent/agents-as-tools/)\n",
    "\n",
    "**Note**\n",
    "In this notebook we will be using **Graph** pattern but we will not be using the **agent_graph** built-in Strands tool. Strands Agents SDK provides a built-in agent_graph tool that simplifies multi-agent system implementation. We will look at the **agent_graph** implementation in the **[02_strands_graph_coordinator_agents.ipynb](./02_strands_graph_coordinator_agents.ipynb)** notebook next. "
   ]
  },
  {
   "cell_type": "markdown",
   "id": "45d5ce85-e86e-4484-97f2-d95231b1fab9",
   "metadata": {},
   "source": [
    "### Tool Architecture Strategy\n",
    "\n",
    "#### Local Tool Integration\n",
    "- Custom tools tightly coupled to a specific agent's functionality\n",
    "- Simpler deployment with no external dependencies\n",
    "- Direct control over tool behavior and updates\n",
    "- Lower latency due to local execution\n",
    "\n",
    "#### Centralized Tool Server\n",
    "- Tools shared across multiple agents or frameworks\n",
    "- Single source of truth for tool functionality\n",
    "- Efficient scaling and maintenance\n",
    "\n",
    "#### Key Considerations:\n",
    "- **Development efficiency:** Centralized tools reduce duplicate code\n",
    "- **Maintenance:** Single update point for shared tools\n",
    "- **Scalability:** Better resource utilization across agents\n",
    "- **Consistency:** Standardized tool behavior across implementations\n"
   ]
  },
  {
   "cell_type": "markdown",
   "id": "32537cff",
   "metadata": {},
   "source": [
    "In this notebook, we will be providing the credit check functionality exposed as a tool through an MCP server and integrate with Strands custom and built-in tools."
   ]
  },
  {
   "cell_type": "markdown",
   "id": "91b6acab",
   "metadata": {},
   "source": [
    "## 1. Setup and Installation\n",
    "\n",
    "First, let's install the required libraries:"
   ]
  },
  {
   "cell_type": "code",
   "execution_count": null,
   "id": "c945dcca",
   "metadata": {},
   "outputs": [],
   "source": [
    "%pip install --upgrade -q -r ../src/requirements.txt"
   ]
  },
  {
   "cell_type": "code",
   "execution_count": null,
   "id": "9d084a74-918b-41b2-9f0a-e3fd8530a9e8",
   "metadata": {},
   "outputs": [],
   "source": [
    "import IPython\n",
    "IPython.Application.instance().kernel.do_shutdown(True)"
   ]
  },
  {
   "cell_type": "markdown",
   "id": "ee4c972b",
   "metadata": {},
   "source": [
    "## 2. Import Libraries and Configure Logging"
   ]
  },
  {
   "cell_type": "code",
   "execution_count": null,
   "id": "de079de3-efb6-43bf-beff-cea056850a97",
   "metadata": {},
   "outputs": [],
   "source": [
    "import os\n",
    "import time\n",
    "import boto3\n",
    "import logging\n",
    "import botocore\n",
    "import json\n",
    "from textwrap import dedent\n",
    "import sys\n",
    "import logging\n",
    "from strands.tools.mcp import MCPClient\n",
    "from mcp.client.streamable_http import streamablehttp_client\n",
    "\n",
    "\n",
    "\n",
    "from strands import Agent, tool\n",
    "from strands_tools import retrieve, calculator\n",
    "\n"
   ]
  },
  {
   "cell_type": "code",
   "execution_count": null,
   "id": "b02d669a",
   "metadata": {},
   "outputs": [],
   "source": [
    "# Set up logging specifically for Strands components\n",
    "loggers = [\n",
    "  'strands',\n",
    "  'strands.agent',\n",
    "  'strands.tools',\n",
    "  'strands.models',\n",
    "  'strands.bedrock'\n",
    "]\n",
    "for logger_name in loggers:\n",
    "  logger = logging.getLogger(logger_name)\n",
    "  logger.setLevel(logging.INFO)\n",
    "  # Add console handler if not already present\n",
    "  if not logger.handlers:\n",
    "    handler = logging.StreamHandler()\n",
    "    formatter = logging.Formatter('%(asctime)s - %(name)s - %(levelname)s - %(message)s')\n",
    "    handler.setFormatter(formatter)\n",
    "    logger.addHandler(handler)"
   ]
  },
  {
   "cell_type": "markdown",
   "id": "4ccc6471",
   "metadata": {},
   "source": [
    "## 3. Configure Knowledge Base\n",
    "\n",
    "First you need to create the Knowledge base before creating an agent to answer questions on mortages. To create the Amazon Bedrock Knowledge Base, you need to run this notebook first if not done already [01_create_knowledgebase.ipynb](../2_bedrock-multi-agent/01_create_knowledgebase.ipynb). When you run the below cell you should be able to see the id of the Knowledge base that you created."
   ]
  },
  {
   "cell_type": "code",
   "execution_count": null,
   "id": "79ca1809-e3c8-410f-be9f-3cf82ce73a6a",
   "metadata": {},
   "outputs": [],
   "source": [
    "%store -r kb_id\n",
    "print(\"KnowledgeBase ID:\",kb_id)"
   ]
  },
  {
   "cell_type": "markdown",
   "id": "c03beb49",
   "metadata": {},
   "source": [
    "The Strands *retrieve** tool can access the Knowledge Base you have created via the **KNOWLEDGE_BASE_ID** environment variable"
   ]
  },
  {
   "cell_type": "code",
   "execution_count": null,
   "id": "a9f8c82d-acf2-49af-af23-5779c01dfc19",
   "metadata": {},
   "outputs": [],
   "source": [
    "# Set knowledge base ID as environment variable so that Strands retrieve tool can use it\n",
    "os.environ[\"KNOWLEDGE_BASE_ID\"] = kb_id\n",
    "os.environ[\"AWS_REGION\"] = 'us-east-1'\n"
   ]
  },
  {
   "cell_type": "markdown",
   "id": "beafeb16-fe5f-4250-ae61-9431e794ab94",
   "metadata": {},
   "source": [
    "## 4. Create Agent for General Mortgage Questions\n",
    "\n",
    "We will be creating an agent to answer general mortage questions providing it the **retrieve** tool to access the Knowledge Base created earlier."
   ]
  },
  {
   "cell_type": "code",
   "execution_count": null,
   "id": "4b0fd7ec-b040-4621-b934-3d1f7dd20d2d",
   "metadata": {},
   "outputs": [],
   "source": [
    "@tool\n",
    "def answer_general_mortgage_questions(query):\n",
    "    # Create the General Mortgage Agent\n",
    "    general_mortgage_agent = Agent(\n",
    "        model=\"us.anthropic.claude-3-5-haiku-20241022-v1:0\",\n",
    "        tools=[\n",
    "           retrieve\n",
    "        ],\n",
    "        system_prompt=\"\"\"\n",
    "        You are a mortgage bot, and can answer questions about mortgage refinancing and tradeoffs of mortgage types. Greet the customer first.\n",
    "        \n",
    "        IMPORTANT: Always use the retrieve tool to search the knowledge base before answering any mortgage-related questions.\n",
    "        \n",
    "        You can:\n",
    "        1. Provide general information about mortgages\n",
    "        2. Handle conversations about general mortgage questions, like high level concepts of refinancing or tradeoffs of 15-year vs 30-year terms.\n",
    "        3. Offer guidance on the mortgage refinancing and tradeoffs of mortgage types.\n",
    "        4. Access a knowledge base of mortgage information using the retrieve tool\n",
    "        5. Only answer from the knowledge base and not from your general knowledge. If you dont have the answer from Knowledge base, say \"I dont know\"\n",
    "        \n",
    "        When helping users:\n",
    "        - ALWAYS call the retrieve tool first to search for relevant information\n",
    "        - Provide clear explanations based on retrieved information\n",
    "        - Use plain language to explain complex financial terms\n",
    "        - Offer balanced advice considering both pros and cons\n",
    "        - Be informative without making specific financial recommendations\n",
    "        \n",
    "        Remember that you're providing general mortgage information, not financial advice.\n",
    "        Always clarify that users should consult with a financial advisor for personalized advice.\n",
    "        \"\"\"\n",
    "    )\n",
    "    return str(general_mortgage_agent(query))\n",
    "\n",
    "\n"
   ]
  },
  {
   "cell_type": "markdown",
   "id": "aec07509-2dc4-4607-8236-291967452cbc",
   "metadata": {},
   "source": [
    "Test the General agent and confirm that it consults the KB to answer the questions\n"
   ]
  },
  {
   "cell_type": "code",
   "execution_count": null,
   "id": "727e0cdc-3acf-4f17-aa65-4a4289c8f1da",
   "metadata": {},
   "outputs": [],
   "source": [
    "print(answer_general_mortgage_questions(\"What is the benefit of refinancing, if any?\"))"
   ]
  },
  {
   "cell_type": "markdown",
   "id": "29dfc671-b48b-4871-b563-75f4904448fc",
   "metadata": {},
   "source": [
    "## 5. Create Agent for Existing Mortgage Questions\n",
    "\n",
    "Create the Agent for managing existing mortgages, for example you can ask when is your next payment due, etc.\n",
    "\n"
   ]
  },
  {
   "cell_type": "code",
   "execution_count": null,
   "id": "0707a3b5-94a9-43c3-ac0d-9385257b6d37",
   "metadata": {},
   "outputs": [],
   "source": [
    "@tool\n",
    "def get_mortgage_details(customer_id):\n",
    "    # TODO: Implement real business logic to retrieve mortgage status\n",
    "    return {\n",
    "        \"account_number\": customer_id,\n",
    "        \"outstanding_principal\": 150000.0,\n",
    "        \"interest_rate\": 4.5,\n",
    "        \"maturity_date\": \"2030-06-30\",\n",
    "        \"payments_remaining\": 72,\n",
    "        \"last_payment_date\": \"2024-06-01\",\n",
    "        \"next_payment_due\": \"2024-07-01\",\n",
    "        \"next_payment_amount\": 1250.0\n",
    "    }\n"
   ]
  },
  {
   "cell_type": "code",
   "execution_count": null,
   "id": "779ac2a0",
   "metadata": {},
   "outputs": [],
   "source": [
    "@tool\n",
    "def answer_existing_mortgage_questions(query):\n",
    "    # Create the Existing Mortgage Agent\n",
    "    existing_mortgage_agent = Agent(\n",
    "        model=\"us.anthropic.claude-3-5-haiku-20241022-v1:0\",\n",
    "        tools=[\n",
    "           get_mortgage_details\n",
    "        ],\n",
    "        system_prompt=\"\"\"\n",
    "        You are an Existing Mortgage Assistant that helps customers with their current mortgages.\n",
    "\n",
    "        You can:\n",
    "        1. Provide information about a customer's existing mortgage\n",
    "        2. Check mortgage status including balance and payment information\n",
    "        3. Evaluate refinancing eligibility\n",
    "        4. Calculate payoff timelines with extra payments\n",
    "        5. Answer questions about mortgage terms and conditions\n",
    "\n",
    "        When helping users:\n",
    "        - Always verify the customer ID before providing information\n",
    "        - Provide clear explanations of mortgage details\n",
    "        - Format financial data in a readable way\n",
    "        - Explain payment schedules and upcoming due dates\n",
    "        - Offer guidance on refinancing options when appropriate\n",
    "        - Use the knowledge base for detailed information when needed\n",
    "\n",
    "        Remember that you're dealing with sensitive financial information, so maintain a professional tone\n",
    "        and ensure accuracy in all responses.\n",
    "        \"\"\"\n",
    "    )\n",
    "    return str(existing_mortgage_agent(query))\n",
    "\n"
   ]
  },
  {
   "cell_type": "markdown",
   "id": "108c5cc5",
   "metadata": {},
   "source": [
    "Test the agent to check if it can answer questions about the existing mortgage."
   ]
  },
  {
   "cell_type": "code",
   "execution_count": null,
   "id": "13204caf-acfe-441c-b114-69112583e803",
   "metadata": {},
   "outputs": [],
   "source": [
    "print(answer_existing_mortgage_questions(\"I'm customer 98991. when's my next payment due?\"))"
   ]
  },
  {
   "cell_type": "markdown",
   "id": "ea68e8de",
   "metadata": {},
   "source": [
    "## 6. Integrate Credit Check Tool via MCP Server\n",
    "\n",
    "Now let us integrate the credit check tool provided via the MCP server. Strands includes built-in support for connecting to MCP servers and using their tools.\n",
    "\n"
   ]
  },
  {
   "cell_type": "markdown",
   "id": "ab6a7ac5",
   "metadata": {},
   "source": [
    "> 🚨 **Important Note:** Before proceeding further **Run the MCP server** provided here [creditcheck_server_http.py](../3_mcp-server-client/strands_mcp/creditcheck_server_http.py). Go to the SageMaker terminal from this notebook and navigate to the **3_mcp-server-client/strands_mcp/** folder and run the below command:\n",
    "\n",
    "python creditcheck_server_http.py\n",
    "\n",
    "This will start the MCP server that can accessible through this url: \"http://0.0.0.0:8080/mcp\".\n",
    "\n",
    "We will connect to this server through Strands MCP client, list the tools provided by the MCP server and add the tools to the tool list provided the agent as shown int he cell below"
   ]
  },
  {
   "cell_type": "code",
   "execution_count": null,
   "id": "ea6f8012",
   "metadata": {},
   "outputs": [],
   "source": [
    "# Create MCP HTTP client\n",
    "mcp_client = MCPClient(lambda: streamablehttp_client(\n",
    "    url=\"http://0.0.0.0:8080/mcp\"  # Your MCP server URL\n",
    "    #streaming=True  # Enable streaming\n",
    "))\n"
   ]
  },
  {
   "cell_type": "markdown",
   "id": "0d67d01f-2656-4d5f-8786-6341b07e0dea",
   "metadata": {},
   "source": [
    "## 7. Create Supervisor Agent\n",
    "\n",
    "Create the supervisor agent and provide all specialized agent tools as well as the MCP tools. When working with MCP tools in Strands, all agent operations must be performed within the MCP client's context manager (using a with statement). This requirement ensures that the MCP session remains active and connected while the agent is using the tools."
   ]
  },
  {
   "cell_type": "code",
   "execution_count": null,
   "id": "46ba7ae5",
   "metadata": {},
   "outputs": [],
   "source": [
    "def answer_customer_query(query):\n",
    "    \"\"\"\n",
    "    Process the customer query through the multi-agent system with MCP integration\n",
    "    \n",
    "    Args:\n",
    "        query: The customer's query\n",
    "        \n",
    "    Returns:\n",
    "        str: The response from the supervisor agent\n",
    "    \"\"\"\n",
    "    # Use MCP client context manager to ensure session is active\n",
    "    with mcp_client:\n",
    "        try:\n",
    "            # Get MCP tools\n",
    "            mcp_tools = mcp_client.list_tools_sync()\n",
    "            \n",
    "            # Define supervisor system prompt\n",
    "            supervisor_system_prompt = \"\"\"\n",
    "            Your role is to provide a unified experience for all things related to mortgages. You are a supervisor who oversees answering\n",
    "            customer questions related to general mortgages questions and queries about the existing mortgage.\n",
    "            \n",
    "            For general questions, use the answer_general_mortgage_questions tool.\n",
    "            For questions on existing mortgage, use the answer_existing_mortgage_questions tool.\n",
    "            If asked for a complicated calculation, use your code interpreter to be sure it's done accurately.\n",
    "            \n",
    "            You also have access to MCP tools that can perform additional function to get the credit score of existing customer.\n",
    "            Use these tools when appropriate for the customer's query.\n",
    "            \n",
    "            IMPORTANT: When using credit check tools, return ONLY the credit score value without additional analysis or explanations.\n",
    "            For other queries, synthesize the details from the response of the tools used into a comprehensive answer provided back to the customer.\n",
    "            \"\"\"\n",
    "            \n",
    "            # Combine custom tools with MCP tools\n",
    "            all_tools = [\n",
    "                answer_general_mortgage_questions, \n",
    "                answer_existing_mortgage_questions, \n",
    "                calculator\n",
    "            ] + mcp_tools\n",
    "            \n",
    "            # Create the supervisor agent within MCP context\n",
    "            supervisor = Agent(\n",
    "                model=\"us.anthropic.claude-3-5-haiku-20241022-v1:0\",\n",
    "                system_prompt=supervisor_system_prompt,\n",
    "                tools=all_tools\n",
    "            )\n",
    "            \n",
    "            # Process the query within the same MCP context\n",
    "            return supervisor(f\"Provide a comprehensive answer for this query: {query}\")\n",
    "            \n",
    "        except Exception as e:\n",
    "            logger.error(f\"Error processing query with MCP tools: {str(e)}\")\n",
    "            \n",
    "            # Fallback to supervisor without MCP tools\n",
    "            supervisor = Agent(\n",
    "                model=\"us.anthropic.claude-3-5-haiku-20241022-v1:0\",\n",
    "                system_prompt=\"\"\"\n",
    "                Your role is to provide a unified experience for all things related to mortgages. You are a supervisor who oversees answering\n",
    "                customer questions related to general mortgages questions and queries about the existing mortgage.\n",
    "\n",
    "                For general questions, use the answer_general_mortgage_questions tool.\n",
    "                For questions on existing mortgage, use the answer_existing_mortgage_questions tool.\n",
    "                If asked for a complicated calculation, use your code interpreter to be sure it's done accurately.\n",
    "                \n",
    "                Synthesize the details from the response of the tools used into a comprehensive answer provided back to the customer.\n",
    "                \"\"\",\n",
    "                tools=[answer_general_mortgage_questions, answer_existing_mortgage_questions, calculator]\n",
    "            )\n",
    "            \n",
    "            return supervisor(f\"Provide a comprehensive answer for this query: {query}\")"
   ]
  },
  {
   "cell_type": "markdown",
   "id": "95b30164",
   "metadata": {},
   "source": [
    "## 8. Test the Complete Multi-Agent System\n",
    "\n",
    "Now let's test the complete multi-agent system with various queries:"
   ]
  },
  {
   "cell_type": "code",
   "execution_count": null,
   "id": "cac093b7-aab4-432a-b704-e8db3afca697",
   "metadata": {},
   "outputs": [],
   "source": [
    "#test the supervisor agent\n",
    "print(\"\\n\\nInvoking supervisor agent...\\n\\n\")\n",
    "\n",
    "requests = [#\"I am customer: 3345, when's my next payment due?\",\n",
    "            \"what is my credit score, my customer id is 1111\"\n",
    "            #\"what's my balance after that payment, and what rate am I paying?\",\n",
    "            #\"why do so many people choose a 30-year mortgage??\",\n",
    "            #\"did you receive my employment verification doc yet? i sent it last week\",\n",
    "            #\"i'm getting ready to lock in on a rate. what have the rates looked like in last couple weeks?\",\n",
    "            # \"great. if i use the highest of those rates for $500K for 15 years, what's my payment?\"\n",
    "            ]\n",
    "\n",
    "for request in requests:\n",
    "    print(f\"\\n\\nRequest: {request}\\n\\n\")\n",
    "    result = answer_customer_query(request)\n",
    "    time.sleep(10)\n",
    "    print(result)"
   ]
  },
  {
   "cell_type": "markdown",
   "id": "44463005",
   "metadata": {},
   "source": [
    "## 9. Interactive Chat Loop\n",
    "\n",
    "Let's create an interactive chat loop to test the system with custom queries:"
   ]
  },
  {
   "cell_type": "code",
   "execution_count": null,
   "id": "5bcdcdd7",
   "metadata": {},
   "outputs": [],
   "source": [
    "import io\n",
    "import sys\n",
    "\n",
    "print(\"Mortgage Assistant Chat - Type 'quit' to exit\")\n",
    "print(\"=\" * 50)\n",
    "\n",
    "while True:\n",
    "    user_input = input(\"\\nYou: \").strip()\n",
    "    \n",
    "    if user_input.lower() in [\"exit\", \"quit\", \"bye\"]:\n",
    "        print(\"Goodbye!\")\n",
    "        break\n",
    "    \n",
    "    if not user_input:\n",
    "        continue\n",
    "    \n",
    "    try:\n",
    "        # Capture stdout to prevent double printing\n",
    "        old_stdout = sys.stdout\n",
    "        sys.stdout = io.StringIO()\n",
    "        \n",
    "        response = answer_customer_query(user_input)\n",
    "        \n",
    "        # Restore stdout\n",
    "        captured_output = sys.stdout.getvalue()\n",
    "        sys.stdout = old_stdout\n",
    "        \n",
    "        print(f\"\\nAssistant: {response}\")\n",
    "    except Exception as e:\n",
    "        sys.stdout = old_stdout\n",
    "        print(f\"\\nError: {str(e)}\")\n",
    "        print(\"Please try again or type 'quit' to exit.\")\n"
   ]
  },
  {
   "cell_type": "markdown",
   "id": "27df4122-1be8-49af-aa15-a264112a0a27",
   "metadata": {},
   "source": [
    "### 🔨 Assignment\n",
    " The multi-agent application you created above, just has 2 agents: one to answer general questions on mortgage and the other to answer questions on exiting mortage. You need to add another agent to provide additional functionality to help users initiate a new home loan application by collecting relevant financial information and personal details, just you did leveraging Amazon Bedrock Agent framework in [create-new-application-agent.ipynb](../1_bedrock-single-agent/create-new-application-agent.ipynb)"
   ]
  }
 ],
 "metadata": {
  "kernelspec": {
   "display_name": ".venv",
   "language": "python",
   "name": "python3"
  },
  "language_info": {
   "codemirror_mode": {
    "name": "ipython",
    "version": 3
   },
   "file_extension": ".py",
   "mimetype": "text/x-python",
   "name": "python",
   "nbconvert_exporter": "python",
   "pygments_lexer": "ipython3",
   "version": "3.13.4"
  }
 },
 "nbformat": 4,
 "nbformat_minor": 5
}
