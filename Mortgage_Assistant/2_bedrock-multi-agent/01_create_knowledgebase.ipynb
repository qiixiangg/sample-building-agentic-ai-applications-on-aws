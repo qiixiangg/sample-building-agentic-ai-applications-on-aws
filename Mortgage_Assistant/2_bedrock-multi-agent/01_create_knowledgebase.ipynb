{
 "cells": [
  {
   "cell_type": "raw",
   "id": "47aaddce-1d67-407f-a360-9873be52d5a4",
   "metadata": {
    "vscode": {
     "languageId": "raw"
    }
   },
   "source": [
    "Lab 2 - part 1 - Create a Knowledge Base"
   ]
  },
  {
   "cell_type": "markdown",
   "id": "46f3175c",
   "metadata": {},
   "source": [
    "Let's start by creating a [Knowledge Base for Amazon Bedrock](https://aws.amazon.com/bedrock/knowledge-bases/) \n",
    "to provide knowledge about mortgages. In this notebook, we will create a knowledge base using the content available in the mortgage_dataset folder. This knowledge base will be used to answer general QnA.  As a challenge, see if you can include more data sources "
   ]
  },
  {
   "cell_type": "code",
   "execution_count": 1,
   "id": "f7c7e558",
   "metadata": {},
   "outputs": [
    {
     "name": "stdout",
     "output_type": "stream",
     "text": [
      "\n",
      "\u001b[1m[\u001b[0m\u001b[34;49mnotice\u001b[0m\u001b[1;39;49m]\u001b[0m\u001b[39;49m A new release of pip is available: \u001b[0m\u001b[31;49m25.1.1\u001b[0m\u001b[39;49m -> \u001b[0m\u001b[32;49m25.2\u001b[0m\n",
      "\u001b[1m[\u001b[0m\u001b[34;49mnotice\u001b[0m\u001b[1;39;49m]\u001b[0m\u001b[39;49m To update, run: \u001b[0m\u001b[32;49mpip install --upgrade pip\u001b[0m\n",
      "Note: you may need to restart the kernel to use updated packages.\n"
     ]
    }
   ],
   "source": [
    "%pip install -q opensearch-py==2.7.1 matplotlib termcolor pickleshare"
   ]
  },
  {
   "cell_type": "markdown",
   "id": "f10b7461",
   "metadata": {},
   "source": [
    "Step 1: Import libraries and helper functions"
   ]
  },
  {
   "cell_type": "code",
   "execution_count": 2,
   "id": "de079de3-efb6-43bf-beff-cea056850a97",
   "metadata": {},
   "outputs": [],
   "source": [
    "import os\n",
    "import time\n",
    "import boto3\n",
    "import logging\n",
    "import botocore\n",
    "import json\n",
    "from textwrap import dedent\n",
    "\n",
    "%load_ext autoreload\n",
    "%autoreload 2"
   ]
  },
  {
   "cell_type": "markdown",
   "id": "20333837-76b5-4699-8fb3-260829df8098",
   "metadata": {},
   "source": [
    "In the following cell, we add `bedrock_agent_helper.py` and `knowledge_base_helper` on Python path.\n",
    "\n",
    "These file contain helper classes focused on making labs experience smooth. \n",
    "\n",
    "All interactions with Bedrock will be handled by these classes.\n",
    "\n",
    "Following methods will be used in this lab:\n",
    "\n",
    "On `agents.py`:\n",
    "- `create_agent`: Create a new agent and respective IAM roles\n",
    "- `add_action_group_with_lambda`: Create a lambda function and add it as an action group for a previous created agent\n",
    "- `create_agent_alias`: Create an alias for this agent\n",
    "- `invoke`: Execute agent\n",
    "\n",
    "On `knowledge_bases.py`:\n",
    "- `create_or_retrieve_knowledge_base`: Create Knowledge Base on Amazon Bedrock if it doesn't exist or get info about previous created.\n",
    "- `synchronize_data`: Read files on S3, convert text info into vectors and add that information on Vector Database."
   ]
  },
  {
   "cell_type": "code",
   "execution_count": 2,
   "id": "560e3292-1e89-4014-bcd4-29241b82c961",
   "metadata": {},
   "outputs": [
    {
     "name": "stdout",
     "output_type": "stream",
     "text": [
      "boto3 version: 1.40.32\n"
     ]
    }
   ],
   "source": [
    "import sys\n",
    "sys.path.insert(0, '..') \n",
    "\n",
    "from src.utils.bedrock_agent import AgentsForAmazonBedrock\n",
    "\n",
    "from src.utils.knowledge_base_helper import KnowledgeBasesForAmazonBedrock\n",
    "\n",
    "agents = AgentsForAmazonBedrock()\n",
    "kb = KnowledgeBasesForAmazonBedrock()"
   ]
  },
  {
   "cell_type": "markdown",
   "id": "ae64d94a",
   "metadata": {},
   "source": [
    "Create boto3 clients"
   ]
  },
  {
   "cell_type": "code",
   "execution_count": 3,
   "id": "02ad6143-fde8-4ecf-88a5-ba333d722b35",
   "metadata": {},
   "outputs": [],
   "source": [
    "s3_client = boto3.client('s3')\n",
    "sts_client = boto3.client('sts')\n",
    "bedrock_agent_runtime_client = boto3.client('bedrock-agent-runtime')"
   ]
  },
  {
   "cell_type": "markdown",
   "id": "a93fa5a8",
   "metadata": {},
   "source": [
    "Get the region and bucket name. The bucket will be created if its not present already."
   ]
  },
  {
   "cell_type": "code",
   "execution_count": null,
   "id": "2e79386b-d639-4894-96d1-cb5180e2fc73",
   "metadata": {},
   "outputs": [],
   "source": [
    "region = 'us-east-1'\n",
    "account_id = sts_client.get_caller_identity()[\"Account\"]\n",
    "suffix = f\"{region}-{account_id}\"\n",
    "bucket_name = f'mac-workshop-{suffix}'"
   ]
  },
  {
   "cell_type": "markdown",
   "id": "8ec63db8-5b50-46e6-9ace-729b60d240f8",
   "metadata": {},
   "source": [
    "### Create Knowledge Base \n",
    " We will now create the knowledge base with Amazon OpenSearch Serverless as the vector store. To do so, we will use the helper class `KnowledgeBasesForAmazonBedrock` which creates the knowledge base and all of its prerequisites:\n",
    "1. IAM roles and policies\n",
    "2. S3 bucket\n",
    "3. Amazon OpenSearch Serverless encryption, network and data access policies\n",
    "4. Amazon OpenSearch Serverless collection\n",
    "5. Amazon OpenSearch Serverless vector index\n",
    "6. Knowledge Base\n",
    "7. Knowledge Base data source\n",
    "\n",
    "This might take a few minutes, so have a break!"
   ]
  },
  {
   "cell_type": "code",
   "execution_count": 6,
   "id": "efaeec57-ef8e-48f1-839e-922250db2f78",
   "metadata": {},
   "outputs": [],
   "source": [
    "knowledge_base_name = \"mortgage-agent-kb\"\n",
    "\n",
    "knowledge_base_description = \"KB containing information on mortgages\""
   ]
  },
  {
   "cell_type": "code",
   "execution_count": 7,
   "id": "037d2c4e-9906-4a4d-8188-d22c65448460",
   "metadata": {},
   "outputs": [
    {
     "name": "stdout",
     "output_type": "stream",
     "text": [
      "Creating KB mortgage-agent-kb\n",
      "========================================================================================\n",
      "Step 1 - Creating or retrieving mac-workshop-us-east-1-025066245096 S3 bucket for Knowledge Base documents\n",
      "Creating bucket mac-workshop-us-east-1-025066245096\n",
      "========================================================================================\n",
      "Step 2 - Creating Knowledge Base Execution Role (AmazonBedrockExecutionRoleForKnowledgeBase_536) and Policies\n",
      "========================================================================================\n",
      "Step 3 - Creating OSS encryption, network and data access policies\n",
      "========================================================================================\n",
      "Step 4 - Creating OSS Collection (this step takes a couple of minutes to complete)\n",
      "{ 'ResponseMetadata': { 'HTTPHeaders': { 'connection': 'keep-alive',\n",
      "                                         'content-length': '313',\n",
      "                                         'content-type': 'application/x-amz-json-1.0',\n",
      "                                         'date': 'Wed, 17 Sep 2025 13:13:39 '\n",
      "                                                 'GMT',\n",
      "                                         'x-amzn-requestid': '51f947e9-e586-4cca-9b28-0d50bf48beda'},\n",
      "                        'HTTPStatusCode': 200,\n",
      "                        'RequestId': '51f947e9-e586-4cca-9b28-0d50bf48beda',\n",
      "                        'RetryAttempts': 0},\n",
      "  'createCollectionDetail': { 'arn': 'arn:aws:aoss:us-east-1:025066245096:collection/nm9s1pzcsiji5d06xk12',\n",
      "                              'createdDate': 1758114819083,\n",
      "                              'id': 'nm9s1pzcsiji5d06xk12',\n",
      "                              'kmsKeyArn': 'auto',\n",
      "                              'lastModifiedDate': 1758114819083,\n",
      "                              'name': 'mortgage-agent-kb-536',\n",
      "                              'standbyReplicas': 'ENABLED',\n",
      "                              'status': 'CREATING',\n",
      "                              'type': 'VECTORSEARCH'}}\n",
      "nm9s1pzcsiji5d06xk12.us-east-1.aoss.amazonaws.com\n",
      "Creating collection...\n",
      "Creating collection...........\n",
      "..............................\n",
      "Collection successfully created:\n",
      "[ { 'arn': 'arn:aws:aoss:us-east-1:025066245096:collection/nm9s1pzcsiji5d06xk12',\n",
      "    'collectionEndpoint': 'https://nm9s1pzcsiji5d06xk12.us-east-1.aoss.amazonaws.com',\n",
      "    'createdDate': 1758114819083,\n",
      "    'dashboardEndpoint': 'https://nm9s1pzcsiji5d06xk12.us-east-1.aoss.amazonaws.com/_dashboards',\n",
      "    'fipsEndpoints': { 'collectionEndpoint': 'https://nm9s1pzcsiji5d06xk12.us-east-1.aoss-fips.amazonaws.com',\n",
      "                       'dashboardEndpoint': 'https://nm9s1pzcsiji5d06xk12.us-east-1.aoss-fips.amazonaws.com/_dashboards'},\n",
      "    'id': 'nm9s1pzcsiji5d06xk12',\n",
      "    'kmsKeyArn': 'auto',\n",
      "    'lastModifiedDate': 1758114875560,\n",
      "    'name': 'mortgage-agent-kb-536',\n",
      "    'standbyReplicas': 'ENABLED',\n",
      "    'status': 'ACTIVE',\n",
      "    'type': 'VECTORSEARCH'}]\n",
      "Opensearch serverless arn:  arn:aws:iam::025066245096:policy/AmazonBedrockOSSPolicyForKnowledgeBase_536\n",
      "Sleeping for a minute to ensure data access rules have been enforced\n",
      "========================================================================================\n",
      "Step 5 - Creating OSS Vector Index\n",
      "\n",
      "Creating index:\n",
      "{ 'acknowledged': True,\n",
      "  'index': 'mortgage-agent-kb-index-536',\n",
      "  'shards_acknowledged': True}\n",
      "========================================================================================\n",
      "Step 6 - Creating Knowledge Base\n",
      "{'type': 'VECTOR', 'vectorKnowledgeBaseConfiguration': {'embeddingModelArn': 'arn:aws:bedrock:us-east-1::foundation-model/amazon.titan-embed-text-v2:0'}}\n",
      "{ 'createdAt': datetime.datetime(2025, 9, 17, 13, 16, 44, 918061, tzinfo=tzutc()),\n",
      "  'description': 'KB containing information on mortgages',\n",
      "  'knowledgeBaseArn': 'arn:aws:bedrock:us-east-1:025066245096:knowledge-base/F6UTJWUSUX',\n",
      "  'knowledgeBaseConfiguration': { 'type': 'VECTOR',\n",
      "                                  'vectorKnowledgeBaseConfiguration': { 'embeddingModelArn': 'arn:aws:bedrock:us-east-1::foundation-model/amazon.titan-embed-text-v2:0'}},\n",
      "  'knowledgeBaseId': 'F6UTJWUSUX',\n",
      "  'name': 'mortgage-agent-kb',\n",
      "  'roleArn': 'arn:aws:iam::025066245096:role/AmazonBedrockExecutionRoleForKnowledgeBase_536',\n",
      "  'status': 'CREATING',\n",
      "  'storageConfiguration': { 'opensearchServerlessConfiguration': { 'collectionArn': 'arn:aws:aoss:us-east-1:025066245096:collection/nm9s1pzcsiji5d06xk12',\n",
      "                                                                   'fieldMapping': { 'metadataField': 'text-metadata',\n",
      "                                                                                     'textField': 'text',\n",
      "                                                                                     'vectorField': 'vector'},\n",
      "                                                                   'vectorIndexName': 'mortgage-agent-kb-index-536'},\n",
      "                            'type': 'OPENSEARCH_SERVERLESS'},\n",
      "  'updatedAt': datetime.datetime(2025, 9, 17, 13, 16, 44, 918061, tzinfo=tzutc())}\n",
      "{ 'createdAt': datetime.datetime(2025, 9, 17, 13, 16, 47, 390921, tzinfo=tzutc()),\n",
      "  'dataDeletionPolicy': 'RETAIN',\n",
      "  'dataSourceConfiguration': { 's3Configuration': { 'bucketArn': 'arn:aws:s3:::mac-workshop-us-east-1-025066245096'},\n",
      "                               'type': 'S3'},\n",
      "  'dataSourceId': 'DDS3Q7PCDW',\n",
      "  'description': 'KB containing information on mortgages',\n",
      "  'knowledgeBaseId': 'F6UTJWUSUX',\n",
      "  'name': 'mortgage-agent-kb',\n",
      "  'status': 'AVAILABLE',\n",
      "  'updatedAt': datetime.datetime(2025, 9, 17, 13, 16, 47, 390921, tzinfo=tzutc()),\n",
      "  'vectorIngestionConfiguration': { 'chunkingConfiguration': { 'chunkingStrategy': 'FIXED_SIZE',\n",
      "                                                               'fixedSizeChunkingConfiguration': { 'maxTokens': 512,\n",
      "                                                                                                   'overlapPercentage': 20}}}}\n",
      "========================================================================================\n",
      "Knowledge Base ID: F6UTJWUSUX\n",
      "Data Source ID: DDS3Q7PCDW\n",
      "CPU times: user 499 ms, sys: 182 ms, total: 681 ms\n",
      "Wall time: 4min 15s\n"
     ]
    }
   ],
   "source": [
    "%%time\n",
    "kb_id, ds_id = kb.create_or_retrieve_knowledge_base(\n",
    "    knowledge_base_name,\n",
    "    knowledge_base_description,\n",
    "    bucket_name\n",
    ")\n",
    "\n",
    "print(f\"Knowledge Base ID: {kb_id}\")\n",
    "print(f\"Data Source ID: {ds_id}\")\n"
   ]
  },
  {
   "cell_type": "markdown",
   "id": "707b2060-eb80-477e-a274-3ac2578781cc",
   "metadata": {},
   "source": [
    "Now that we have created a knowledge base, let's populate it with some mortgage knowledge. For this workshop we have two comprehensive articles from Investopedia.com for illustrative purposes.\n",
    "\n",
    "The Knowledge Base data source expects the data to be available on the S3 bucket connected to it and changes on the data can be syncronized to the knowledge base using the Ingest API call.  Lets upload the files to the s3 bucket"
   ]
  },
  {
   "cell_type": "code",
   "execution_count": 8,
   "id": "b063a522",
   "metadata": {},
   "outputs": [],
   "source": [
    "# function to upload to S3 bucket\n",
    "import boto3\n",
    "\n",
    "def upload_file_to_s3(file_path, bucket_name, object_key=None):\n",
    "    \"\"\"Upload a file to S3 bucket\"\"\"\n",
    "    s3_client = boto3.client('s3')\n",
    "    \n",
    "    # Check if bucket exists, create if not\n",
    "    existing_buckets = [bucket['Name'] for bucket in s3_client.list_buckets()['Buckets']]\n",
    "    if bucket_name not in existing_buckets:\n",
    "        s3_client.create_bucket(Bucket=bucket_name)\n",
    "    \n",
    "    if object_key is None:\n",
    "        object_key = file_path.split('/')[-1]\n",
    "    \n",
    "    s3_client.upload_file(file_path, bucket_name, object_key)\n",
    "    return f\"s3://{bucket_name}/{object_key}\"\n"
   ]
  },
  {
   "cell_type": "code",
   "execution_count": 9,
   "id": "5b2d04e4-d95e-47d4-8be8-d7399c4d4bd7",
   "metadata": {},
   "outputs": [
    {
     "data": {
      "text/plain": [
       "\"s3://mac-workshop-us-east-1-025066245096/15-Year vs. 30-Year Mortgage What's the Difference .html\""
      ]
     },
     "execution_count": 9,
     "metadata": {},
     "output_type": "execute_result"
    }
   ],
   "source": [
    "upload_file_to_s3(\"mortgage_dataset/15-Year vs. 30-Year Mortgage What's the Difference .html\", bucket_name,\"15-Year vs. 30-Year Mortgage What's the Difference .html\")"
   ]
  },
  {
   "cell_type": "code",
   "execution_count": 10,
   "id": "16c89668-293c-4ddf-ac58-6c9c901c73a7",
   "metadata": {},
   "outputs": [
    {
     "data": {
      "text/plain": [
       "'s3://mac-workshop-us-east-1-025066245096/Mortgage Refinancing When Does It Make Sense .html'"
      ]
     },
     "execution_count": 10,
     "metadata": {},
     "output_type": "execute_result"
    }
   ],
   "source": [
    "upload_file_to_s3(\"mortgage_dataset/Mortgage Refinancing When Does It Make Sense .html\", bucket_name,\"Mortgage Refinancing When Does It Make Sense .html\")"
   ]
  },
  {
   "cell_type": "markdown",
   "id": "49496fd1-de36-431e-a7d5-12852844ba03",
   "metadata": {},
   "source": [
    "Now we ingest the documents, which chunks the source documents and stores an embedding for each chunk into the underying knowledge base vector store. For a simple example, this ingestion takes a couple minutes."
   ]
  },
  {
   "cell_type": "code",
   "execution_count": 11,
   "id": "870811ef-78f1-41f3-9e8e-0ac0c9462db8",
   "metadata": {},
   "outputs": [
    {
     "name": "stdout",
     "output_type": "stream",
     "text": [
      "{ 'dataSourceId': 'DDS3Q7PCDW',\n",
      "  'ingestionJobId': 'JJ0EXPPP35',\n",
      "  'knowledgeBaseId': 'F6UTJWUSUX',\n",
      "  'startedAt': datetime.datetime(2025, 9, 17, 13, 17, 55, 288317, tzinfo=tzutc()),\n",
      "  'statistics': { 'numberOfDocumentsDeleted': 0,\n",
      "                  'numberOfDocumentsFailed': 0,\n",
      "                  'numberOfDocumentsScanned': 0,\n",
      "                  'numberOfMetadataDocumentsModified': 0,\n",
      "                  'numberOfMetadataDocumentsScanned': 0,\n",
      "                  'numberOfModifiedDocumentsIndexed': 0,\n",
      "                  'numberOfNewDocumentsIndexed': 0},\n",
      "  'status': 'STARTING',\n",
      "  'updatedAt': datetime.datetime(2025, 9, 17, 13, 17, 55, 288317, tzinfo=tzutc())}\n",
      "{ 'dataSourceId': 'DDS3Q7PCDW',\n",
      "  'ingestionJobId': 'JJ0EXPPP35',\n",
      "  'knowledgeBaseId': 'F6UTJWUSUX',\n",
      "  'startedAt': datetime.datetime(2025, 9, 17, 13, 17, 55, 288317, tzinfo=tzutc()),\n",
      "  'statistics': { 'numberOfDocumentsDeleted': 0,\n",
      "                  'numberOfDocumentsFailed': 0,\n",
      "                  'numberOfDocumentsScanned': 2,\n",
      "                  'numberOfMetadataDocumentsModified': 0,\n",
      "                  'numberOfMetadataDocumentsScanned': 0,\n",
      "                  'numberOfModifiedDocumentsIndexed': 0,\n",
      "                  'numberOfNewDocumentsIndexed': 2},\n",
      "  'status': 'COMPLETE',\n",
      "  'updatedAt': datetime.datetime(2025, 9, 17, 13, 18, 1, 371618, tzinfo=tzutc())}\n",
      "KB synchronization completed\n",
      "\n",
      "CPU times: user 54.8 ms, sys: 15.6 ms, total: 70.5 ms\n",
      "Wall time: 17.7 s\n"
     ]
    }
   ],
   "source": [
    "%%time\n",
    "# Start an ingestion job to synchronize data\n",
    "kb.synchronize_data(kb_id, ds_id)\n",
    "print('KB synchronization completed\\n')"
   ]
  },
  {
   "cell_type": "markdown",
   "id": "05a1b88c-e49c-419f-adb9-945e9eb6f5f3",
   "metadata": {},
   "source": [
    "### Test the Knowledge Base\n",
    "Now the Knowledge Base is available we can test it out using the [**retrieve**](https://boto3.amazonaws.com/v1/documentation/api/latest/reference/services/bedrock-agent-runtime/client/retrieve.html) and [**retrieve_and_generate**](https://boto3.amazonaws.com/v1/documentation/api/latest/reference/services/bedrock-agent-runtime/client/retrieve_and_generate.html) functions. \n",
    "\n",
    "#### Testing Knowledge Base with Retrieve and Generate API\n",
    "\n",
    "Let's first test the knowledge base using the retrieve and generate API. With this API, Bedrock takes care of retrieving the necessary references from the knowledge base and generating the final answer using a Bedrock LLM."
   ]
  },
  {
   "cell_type": "code",
   "execution_count": 14,
   "id": "1c99ad63-2f09-46ff-9683-237fa7dffe4d",
   "metadata": {},
   "outputs": [
    {
     "name": "stdout",
     "output_type": "stream",
     "text": [
      "A 15-year and 30-year mortgage differ primarily in their loan term and monthly payment structure. The 15-year mortgage has higher monthly payments but costs significantly less in total interest over the life of the loan. In contrast, a 30-year mortgage offers lower monthly payments, making it more affordable for many homebuyers, but results in paying almost double the total interest compared to a 15-year mortgage. With a 15-year mortgage, borrowers typically pay a lower interest rate, sometimes up to a full percentage point less than a 30-year loan. The shorter term means that more of each payment goes toward the principal earlier, helping homeowners build equity faster. Banks also consider 15-year loans less risky, which contributes to the lower interest rates. The primary advantage of a 30-year mortgage is flexibility. Lower monthly payments allow borrowers to potentially buy a more expensive home, build savings, or allocate funds to other financial goals. However, this comes at the cost of paying significantly more interest over time. For instance, at a 4% interest rate, borrowers will pay about 2.2 times more interest with a 30-year loan compared to a 15-year loan. The best choice depends on individual financial circumstances. If you can afford higher monthly payments and want to minimize long-term interest costs, a 15-year mortgage might be ideal. If you need lower monthly payments or want more financial flexibility, a 30-year mortgage could be the better option. Some financial experts recommend a compromise: taking a 30-year mortgage but making extra principal payments to reduce the overall loan term.\n",
      "\n"
     ]
    }
   ],
   "source": [
    "response = bedrock_agent_runtime_client.retrieve_and_generate(\n",
    "    input={\n",
    "        \"text\": \"compare and contrast 15-year vs 30-year mortgage type\"\n",
    "    },\n",
    "    retrieveAndGenerateConfiguration={\n",
    "        \"type\": \"KNOWLEDGE_BASE\",\n",
    "        \"knowledgeBaseConfiguration\": {\n",
    "            'knowledgeBaseId': kb_id,\n",
    "            \"modelArn\": \"arn:aws:bedrock:us-east-1:025066245096:inference-profile/us.anthropic.claude-3-5-haiku-20241022-v1:0\",\n",
    "            \"retrievalConfiguration\": {\n",
    "                \"vectorSearchConfiguration\": {\n",
    "                    \"numberOfResults\":5\n",
    "                } \n",
    "            }\n",
    "        }\n",
    "    }\n",
    ")\n",
    "\n",
    "print(response['output']['text'],end='\\n'*2)"
   ]
  },
  {
   "cell_type": "markdown",
   "id": "e22c732f-37ab-4bd7-92d3-34d01cdd848f",
   "metadata": {},
   "source": [
    "As you can see, with the retrieve and generate API we get the final response directly and we don't see the different sources used to generate this response. Let's now retrieve the source information from the knowledge base with the retrieve API.\n",
    "\n",
    "**Testing Knowledge Base with Retrieve API**\n",
    "\n",
    "If you need an extra layer of control, you can retrieve the chuncks that best match your query using the retrieve API. In this setup, we can configure the desired number of results and control the final answer with your own application logic. The API then provides you with the matching content, its S3 location, the similarity score and the chunk metadata."
   ]
  },
  {
   "cell_type": "code",
   "execution_count": 15,
   "id": "4c913eb6-4d29-4479-8426-4e45f1660fb9",
   "metadata": {},
   "outputs": [
    {
     "name": "stdout",
     "output_type": "stream",
     "text": [
      "-----------------------------------------------------------------------------------------\n",
      "Chunk 1:  15-Year vs. 30-Year Mortgage: What's the Difference? By clicking \"Accept All Cookies\", you agree to the storing of cookies on your device to enhance site navigation, analyze site usage, and assist in our marketing efforts. Cookies Settings Accept All Cookies Table of Contents Expand Table of Contents * An Overview * How Mortgage Terms Impact Cost * 30-Year Mortgage * 15-Year Mortgage * Special Considerations * A Best-of-Both-Worlds Option * FAQs * The Bottom Line * Personal Finance * Mortgage ## 15-Year vs. 30-Year Mortgage: An Overview Fifteen-year and 30-year mortgages are structurally similar---the main difference is the term. While a 30-year mortgage can make your monthly payments more affordable, a 15-year mortgage generally costs less in the long run. Most homebuyers choose a 30-year home loan. The 30-year fixed-rate mortgage is practically an American archetype, the apple pie of financial instruments. It is the path that generations of Americans have taken to first-time homeownership. But many of those buyers might have been better served if they had opted for a 15-year fixed-rate mortgage instead. Though the monthly payments might be higher, they could save thousands in interest. ### Key Takeaways * Most homebuyers choose a 30-year fixed-rate mortgage, but a 15-year mortgage can be a good choice for some. * A 30-year mortgage can make your monthly payments more affordable. * While monthly payments on a 15-year mortgage are higher, the cost of the loan is less in the long run. ## How Mortgage Terms Affect Cost A mortgage](https://www.investopedia.com/terms/m/mortgage.asp) is simply a particular type of term loan---one secured by real property. For a term loan, the borrower pays interest calculated on an annual basis against the outstanding balance of the loan. Both the [interest rate and monthly payment are fixed. Because the monthly payment is fixed, the portion going to pay interest and the portion going to pay principal change over time. In the beginning, because the loan balance is so high, most of the payment is interest. But as the balance gets smaller, the interest share of the payment declines, and the share going to principal increases. A shorter-term loan means a higher monthly payment, which makes the 15-year mortgage seem less affordable. But the shorter term makes the loan cheaper on several fronts.\n",
      "\n",
      "Chunk 1 Location:  {'s3Location': {'uri': \"s3://mac-workshop-us-east-1-025066245096/15-Year vs. 30-Year Mortgage What's the Difference .html\"}, 'type': 'S3'}\n",
      "\n",
      "Chunk 1 Score:  0.61858475\n",
      "\n",
      "Chunk 1 Metadata:  {'x-amz-bedrock-kb-source-uri': \"s3://mac-workshop-us-east-1-025066245096/15-Year vs. 30-Year Mortgage What's the Difference .html\", 'x-amz-bedrock-kb-chunk-id': '1%3A0%3ARMfTV5kBw7BMiu0cJ1mv', 'x-amz-bedrock-kb-data-source-id': 'DDS3Q7PCDW'}\n",
      "\n",
      "-----------------------------------------------------------------------------------------\n",
      "Chunk 2:  Of course, there's a catch. The price for saving so much money over the long run is a much higher monthly outlay---the payment on the hypothetical 15-year loan is $2,108, $676 (or about 38%) more than the monthly payment for the 30-year loan ($1,432). For some experts, being able to afford the higher payment includes having a rainy day fund tucked away. What many financial planners like about the 15-year mortgage is that it is effectively \"forced saving\". ### If an investor can afford the higher payment, it is in their interest to go with the shorter loan, especially if they are approaching retirement when they will be dependent on a fixed income. ## Special Considerations There are some instances where a borrower may have the incentive to invest the extra money spent each month on a 15-year mortgage elsewhere, such as in a 529 account](https://www.investopedia.com/terms/1/529plan.asp) for college tuition or in a tax-deferred [401(k) plan, especially if the employer matches the borrower's contributions. And when mortgage rates are low, a savvy and disciplined investor could opt for the 30-year loan and place the difference between the 15-year and 30-year payments in higher-yielding securities. Using the previous example, if a 15-year loan monthly payment was $2,108, and the 30-year loan monthly payment was $1,432, a borrower could invest that $676 difference elsewhere. The back-of-the-envelope calculation is how much (or whether) the return on the outside investment, less the capital gains tax owed, exceeds the interest rate on the mortgage after accounting for the mortgage interest deduction. For someone in the 24% tax bracket, the deduction might reduce the effective mortgage interest rate from, for example, 4% to 3%. Broadly speaking, the borrower comes out ahead if the investment's returns after taxes are higher than the cost of the mortgage less the interest deduction. This gambit, however, demands a propensity for risk, according to Shashin Shah, a certified financial planner in Dallas, Texas, because the borrower will have to invest in volatile stocks. \"Currently there are no fixed-income investments that would yield a high enough return to make this work,\" says Shah. Rising mortgage rates can make this method even more difficult.\n",
      "\n",
      "Chunk 2 Location:  {'s3Location': {'uri': \"s3://mac-workshop-us-east-1-025066245096/15-Year vs. 30-Year Mortgage What's the Difference .html\"}, 'type': 'S3'}\n",
      "\n",
      "Chunk 2 Score:  0.56958324\n",
      "\n",
      "Chunk 2 Metadata:  {'x-amz-bedrock-kb-source-uri': \"s3://mac-workshop-us-east-1-025066245096/15-Year vs. 30-Year Mortgage What's the Difference .html\", 'x-amz-bedrock-kb-chunk-id': '1%3A0%3AR8fTV5kBw7BMiu0cJ1mv', 'x-amz-bedrock-kb-data-source-id': 'DDS3Q7PCDW'}\n",
      "\n",
      "-----------------------------------------------------------------------------------------\n",
      "Chunk 3:  The better choice is the one that works best with your finances and long-term goals. ## Is It Better to Get a 15-Year Mortgage or Make Extra Payments on a 30-Year Mortgage? Applying extra payments toward your principal can help you pay down a 30-year mortgage faster without being locked in to a 15-year time frame. Run the numbers to decide whether the flexibility will be worth it, since 30-year loans often come with higher interest rates. ## Is It Worth It to Switch From a 30-Year Fixed-Rate Mortgage to a 15-Year? If you already have a 30-year fixed-rate mortgage and are interested in refinancing to a 15-year mortgage, there are a couple key points to keep in mind. First, consider whether your budget can accommodate the higher mortgage payment of a 15-year loan. Then, compare your existing interest rate with the rates you qualify for on a 15-year mortgage. If you can get a lower interest rate, that could save you money. But with a refinance, you also have to consider the costs of the new loan, which could include origination fees, closing costs, and other expenses. If you don't come out ahead after factoring in the new interest rate as well as the costs of the new loan, you might choose to make extra payments on your existing loan instead. ## The Bottom Line The decision between a 30-year or 15-year mortgage is one that will impact your finances for decades to come, so be sure to crunch the numbers before deciding which is best. If your aim is to pay off the mortgage sooner and you can afford higher monthly payments, a 15-year loan might be a better choice. The lower monthly payment of a 30-year loan, on the other hand, may allow you to buy more house or free up funds for other financial goals. Article Sources Investopedia requires writers to use primary sources to support their work. These include white papers, government data, original reporting, and interviews with industry experts. We also reference original research from other reputable publishers where appropriate. You can learn more about the standards we follow in producing accurate, unbiased content in our editorial policy. 1. Freddie Mac. \"Finding the Right Loan.\" 2. Quicken Loans. \"What Is A Mortgage?\" 3. Rocket Mortgage. \"15-Year vs. 30-Year Mortgages.\" 4. Fannie Mae. \"Loan-Level Price Adjustment Matrix.\" 5. Quicken Loans.\n",
      "\n",
      "Chunk 3 Location:  {'s3Location': {'uri': \"s3://mac-workshop-us-east-1-025066245096/15-Year vs. 30-Year Mortgage What's the Difference .html\"}, 'type': 'S3'}\n",
      "\n",
      "Chunk 3 Score:  0.5673681\n",
      "\n",
      "Chunk 3 Metadata:  {'x-amz-bedrock-kb-source-uri': \"s3://mac-workshop-us-east-1-025066245096/15-Year vs. 30-Year Mortgage What's the Difference .html\", 'x-amz-bedrock-kb-chunk-id': '1%3A0%3AScfTV5kBw7BMiu0cJ1mv', 'x-amz-bedrock-kb-data-source-id': 'DDS3Q7PCDW'}\n",
      "\n"
     ]
    }
   ],
   "source": [
    "response_ret = bedrock_agent_runtime_client.retrieve(\n",
    "    knowledgeBaseId=kb_id, \n",
    "    nextToken='string',\n",
    "    retrievalConfiguration={\n",
    "        \"vectorSearchConfiguration\": {\n",
    "            \"numberOfResults\":3,\n",
    "        } \n",
    "    },\n",
    "    retrievalQuery={\n",
    "        'text': 'What are the cons of a 15-year mortgage?'\n",
    "    }\n",
    ")\n",
    "\n",
    "def response_print(retrieve_resp):\n",
    "    #structure 'retrievalResults': list of contents. Each list has content, location, score, metadata\n",
    "    for num,chunk in enumerate(response_ret['retrievalResults'],1):\n",
    "        print('-----------------------------------------------------------------------------------------')\n",
    "        print(f'Chunk {num}: ',chunk['content']['text'],end='\\n'*2)\n",
    "        print(f'Chunk {num} Location: ',chunk['location'],end='\\n'*2)\n",
    "        print(f'Chunk {num} Score: ',chunk['score'],end='\\n'*2)\n",
    "        print(f'Chunk {num} Metadata: ',chunk['metadata'],end='\\n'*2)\n",
    "\n",
    "response_print(response_ret)"
   ]
  },
  {
   "cell_type": "markdown",
   "id": "cad86a15-cae7-4e7e-88ec-709dbdb22331",
   "metadata": {},
   "source": [
    "Store knowledge base ID and name for subsequent labs"
   ]
  },
  {
   "cell_type": "code",
   "execution_count": 4,
   "id": "21df0402-27e0-490f-92fb-48e4e4fba39d",
   "metadata": {},
   "outputs": [
    {
     "name": "stdout",
     "output_type": "stream",
     "text": [
      "Stored 'kb_id' (str)\n",
      "Stored 'knowledge_base_name' (str)\n"
     ]
    }
   ],
   "source": [
    "%store kb_id\n",
    "%store knowledge_base_name"
   ]
  }
 ],
 "metadata": {
  "kernelspec": {
   "display_name": ".venv",
   "language": "python",
   "name": "python3"
  },
  "language_info": {
   "codemirror_mode": {
    "name": "ipython",
    "version": 3
   },
   "file_extension": ".py",
   "mimetype": "text/x-python",
   "name": "python",
   "nbconvert_exporter": "python",
   "pygments_lexer": "ipython3",
   "version": "3.13.4"
  }
 },
 "nbformat": 4,
 "nbformat_minor": 5
}
