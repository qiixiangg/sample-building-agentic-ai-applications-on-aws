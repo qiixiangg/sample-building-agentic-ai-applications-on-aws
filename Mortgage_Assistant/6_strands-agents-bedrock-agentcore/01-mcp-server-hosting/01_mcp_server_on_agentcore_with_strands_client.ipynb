{
 "cells": [
  {
   "cell_type": "markdown",
   "metadata": {},
   "source": [
    "# Hosting MCP Server on Amazon Bedrock AgentCore Runtime with Strands Client\n",
    "\n",
    "## Overview\n",
    "\n",
    "In this tutorial we will learn how to host MCP (Model Context Protocol) servers on Amazon Bedrock AgentCore Runtime and connect them to local Strands agents. We will use the Amazon Bedrock AgentCore Python SDK to deploy MCP tools as a server compatible with Amazon Bedrock AgentCore.\n",
    "\n",
    "The Amazon Bedrock AgentCore Python SDK handles the MCP server implementation details so you can focus on your tools' core functionality. It transforms your code into the AgentCore standardized MCP protocol contracts for direct communication.\n",
    "\n",
    "### Tutorial Details\n",
    "\n",
    "| Information         | Details                                                   |\n",
    "|:--------------------|:----------------------------------------------------------|\n",
    "| Tutorial type       | Hosting Tools with Agent Integration                      |\n",
    "| Tool type           | MCP server with credit check functionality                |\n",
    "| Tutorial components | Hosting MCP server on AgentCore Runtime + Strands Client |\n",
    "| Tutorial vertical   | Mortgage/Financial Services                               |\n",
    "| Example complexity  | Intermediate                                              |\n",
    "| SDK used            | Amazon BedrockAgentCore Python SDK, MCP, and Strands     |\n",
    "\n",
    "### Tutorial Architecture\n",
    "\n",
    "In this tutorial we will describe how to deploy a credit check MCP server to AgentCore runtime and connect it to a local Strands agent for mortgage processing workflows.\n",
    "\n",
    "```\n",
    "Local Strands Agent → MCP Client → AgentCore Runtime → MCP Server (Credit Check)\n",
    "```\n",
    "\n",
    "### Tutorial Key Features\n",
    "\n",
    "* Creating MCP servers with custom credit check tools\n",
    "* Testing MCP servers locally and remotely\n",
    "* Hosting MCP servers on Amazon Bedrock AgentCore Runtime\n",
    "* Connecting Strands agents to remote MCP servers\n",
    "* Invoking deployed MCP servers with authentication\n",
    "* Building mortgage assistant workflows"
   ]
  },
  {
   "cell_type": "markdown",
   "metadata": {},
   "source": [
    "## Prerequisites\n",
    "\n",
    "To execute this tutorial you will need:\n",
    "* Python 3.10+\n",
    "* AWS credentials configured\n",
    "* Amazon Bedrock AgentCore SDK\n",
    "* MCP (Model Context Protocol) library\n",
    "* Strands Agents SDK\n",
    "* Docker running"
   ]
  },
  {
   "cell_type": "markdown",
   "metadata": {},
   "source": [
    "## Step 1: Install Dependencies"
   ]
  },
  {
   "cell_type": "code",
   "execution_count": null,
   "metadata": {},
   "outputs": [],
   "source": [
    "!pip install --force-reinstall -U -r requirements.txt --quiet"
   ]
  },
  {
   "cell_type": "markdown",
   "metadata": {},
   "source": [
    "## Understanding MCP (Model Context Protocol)\n",
    "\n",
    "MCP is a protocol that allows AI models to securely access external data and tools. Key concepts:\n",
    "\n",
    "* **Tools**: Functions that the AI can call to perform actions\n",
    "* **Streamable HTTP**: Transport protocol used by AgentCore Runtime\n",
    "* **Session Isolation**: Each client gets isolated sessions via `Mcp-Session-Id` header\n",
    "* **Stateless Operation**: Servers must support stateless operation for scalability\n",
    "\n",
    "AgentCore Runtime expects MCP servers to be hosted on `0.0.0.0:8000/mcp` as the default path.\n",
    "\n",
    "## Step 2: Creating MCP Server for Credit Check\n",
    "\n",
    "Now let's create our MCP server with credit check functionality. The server uses FastMCP with `stateless_http=True` which is required for AgentCore Runtime compatibility."
   ]
  },
  {
   "cell_type": "code",
   "execution_count": null,
   "metadata": {},
   "outputs": [],
   "source": [
    "%%writefile mcp_server.py\n",
    "from mcp.server.fastmcp import FastMCP\n",
    "\n",
    "mcp = FastMCP(host=\"0.0.0.0\", stateless_http=True)\n",
    "\n",
    "@mcp.tool()\n",
    "def credit_check(customer_id: int) -> int:\n",
    "    \"\"\"Perform credit check for customer ID\"\"\"\n",
    "    scores = {1111: 70, 2222: 80, 3333: 90}\n",
    "    return scores.get(customer_id, 0)\n",
    "\n",
    "if __name__ == \"__main__\":\n",
    "    mcp.run(transport=\"streamable-http\")"
   ]
  },
  {
   "cell_type": "code",
   "execution_count": null,
   "metadata": {},
   "outputs": [],
   "source": [
    "%%writefile requirements.txt\n",
    "mcp>=1.10.0\n",
    "boto3\n",
    "bedrock-agentcore\n",
    "bedrock-agentcore-starter-toolkit"
   ]
  },
  {
   "cell_type": "markdown",
   "metadata": {},
   "source": [
    "### What This Code Does\n",
    "\n",
    "* **FastMCP**: Creates an MCP server that can host your tools\n",
    "* **@mcp.tool()**: Decorator that turns your Python functions into MCP tools\n",
    "* **stateless_http=True**: Required for AgentCore Runtime compatibility\n",
    "* **credit_check**: Custom tool for mortgage credit verification workflows\n",
    "\n",
    "## Step 3: Setting up Amazon Cognito for Authentication\n",
    "\n",
    "AgentCore Runtime requires authentication. We'll use Amazon Cognito to provide JWT tokens for accessing our deployed MCP server."
   ]
  },
  {
   "cell_type": "code",
   "execution_count": null,
   "metadata": {},
   "outputs": [],
   "source": [
    "import sys\n",
    "import os\n",
    "from utils import setup_cognito_user_pool"
   ]
  },
  {
   "cell_type": "code",
   "execution_count": null,
   "metadata": {},
   "outputs": [],
   "source": [
    "print(\"Setting up Amazon Cognito user pool...\")\n",
    "cognito_config = setup_cognito_user_pool()\n",
    "print(\"Cognito setup completed ✓\")\n",
    "print(f\"User Pool ID: {cognito_config.get('user_pool_id', 'N/A')}\")\n",
    "print(f\"Client ID: {cognito_config.get('client_id', 'N/A')}\")\n",
    "\n",
    "%store cognito_config"
   ]
  },
  {
   "cell_type": "markdown",
   "metadata": {},
   "source": [
    "## Step 4: Configuring AgentCore Runtime Deployment\n",
    "\n",
    "Next we will use our starter toolkit to configure the AgentCore Runtime deployment with an entrypoint, the execution role we just created and a requirements file. We will also configure the starter kit to auto create the Amazon ECR repository on launch.\n",
    "\n",
    "During the configure step, your docker file will be generated based on your application code. The AgentCore Runtime provides:\n",
    "\n",
    "* **Serverless Execution**: No infrastructure management required\n",
    "* **Auto-scaling**: Handles traffic spikes automatically\n",
    "* **Security**: Built-in authentication and authorization\n",
    "* **Observability**: Integrated logging and monitoring"
   ]
  },
  {
   "cell_type": "code",
   "execution_count": null,
   "metadata": {},
   "outputs": [],
   "source": [
    "from bedrock_agentcore_starter_toolkit import Runtime\n",
    "from boto3.session import Session\n",
    "import time\n",
    "\n",
    "boto_session = Session()\n",
    "region = boto_session.region_name\n",
    "print(f\"Using AWS region: {region}\")\n",
    "\n",
    "agentcore_runtime = Runtime()\n",
    "\n",
    "auth_config = {\n",
    "    \"customJWTAuthorizer\": {\n",
    "        \"allowedClients\": [cognito_config['client_id']],\n",
    "        \"discoveryUrl\": cognito_config['discovery_url'],\n",
    "    }\n",
    "}\n",
    "\n",
    "print(\"Configuring AgentCore Runtime...\")\n",
    "response = agentcore_runtime.configure(\n",
    "    entrypoint=\"mcp_server.py\",\n",
    "    auto_create_execution_role=True,\n",
    "    auto_create_ecr=True,\n",
    "    requirements_file=\"requirements.txt\",\n",
    "    region=region,\n",
    "    authorizer_configuration=auth_config,\n",
    "    protocol=\"MCP\",\n",
    "    agent_name=\"credit_check_mcp_server\"\n",
    ")\n",
    "print(\"Configuration completed ✓\")"
   ]
  },
  {
   "cell_type": "markdown",
   "metadata": {},
   "source": [
    "## Step 5: Launching MCP Server to AgentCore Runtime\n",
    "\n",
    "Now that we've got a docker file, let's launch the MCP server to the AgentCore Runtime. This will create the Amazon ECR repository and the AgentCore Runtime.\n",
    "\n",
    "The launch process:\n",
    "1. **Builds Docker Image**: Packages your MCP server code\n",
    "2. **Pushes to ECR**: Stores the image in Amazon Elastic Container Registry\n",
    "3. **Creates Runtime**: Deploys the serverless AgentCore Runtime\n",
    "4. **Configures Authentication**: Sets up JWT-based access control"
   ]
  },
  {
   "cell_type": "code",
   "execution_count": null,
   "metadata": {},
   "outputs": [],
   "source": [
    "print(\"Launching MCP server to AgentCore Runtime...\")\n",
    "print(\"This may take several minutes...\")\n",
    "launch_result = agentcore_runtime.launch()\n",
    "print(\"Launch completed ✓\")\n",
    "print(f\"Agent ARN: {launch_result.agent_arn}\")\n",
    "print(f\"Agent ID: {launch_result.agent_id}\")"
   ]
  },
  {
   "cell_type": "markdown",
   "metadata": {},
   "source": [
    "## Step 6: Checking AgentCore Runtime Status\n",
    "\n",
    "Now that we've deployed the AgentCore Runtime, let's check for its deployment status and wait for it to be ready. The runtime goes through several states:\n",
    "\n",
    "* **CREATING**: Initial deployment in progress\n",
    "* **READY**: Runtime is available and can serve requests\n",
    "* **CREATE_FAILED**: Deployment encountered an error"
   ]
  },
  {
   "cell_type": "code",
   "execution_count": null,
   "metadata": {},
   "outputs": [],
   "source": [
    "print(\"Checking AgentCore Runtime status...\")\n",
    "status_response = agentcore_runtime.status()\n",
    "status = status_response.endpoint['status']\n",
    "print(f\"Initial status: {status}\")\n",
    "\n",
    "end_status = ['READY', 'CREATE_FAILED', 'DELETE_FAILED', 'UPDATE_FAILED']\n",
    "while status not in end_status:\n",
    "    print(f\"Status: {status} - waiting...\")\n",
    "    time.sleep(10)\n",
    "    status_response = agentcore_runtime.status()\n",
    "    status = status_response.endpoint['status']\n",
    "\n",
    "if status == 'READY':\n",
    "    print(\"✓ AgentCore Runtime is READY!\")\n",
    "else:\n",
    "    print(f\"⚠ AgentCore Runtime status: {status}\")\n",
    "    \n",
    "print(f\"Final status: {status}\")"
   ]
  },
  {
   "cell_type": "markdown",
   "metadata": {},
   "source": [
    "## Step 7: Storing Configuration for Remote Access\n",
    "\n",
    "Before we can invoke our deployed MCP server, let's store the Agent ARN and Cognito configuration in AWS Systems Manager Parameter Store and AWS Secrets Manager for easy retrieval by our Strands agent client."
   ]
  },
  {
   "cell_type": "code",
   "execution_count": null,
   "metadata": {},
   "outputs": [],
   "source": [
    "import boto3\n",
    "import json\n",
    "\n",
    "ssm_client = boto3.client('ssm', region_name=region)\n",
    "secrets_client = boto3.client('secretsmanager', region_name=region)\n",
    "\n",
    "try:\n",
    "    secrets_client.create_secret(\n",
    "        Name='credit_check_mcp/cognito/credentials',\n",
    "        Description='Cognito credentials for credit check MCP server',\n",
    "        SecretString=json.dumps(cognito_config)\n",
    "    )\n",
    "    print(\"✓ Cognito credentials stored in Secrets Manager\")\n",
    "except secrets_client.exceptions.ResourceExistsException:\n",
    "    secrets_client.update_secret(\n",
    "        SecretId='credit_check_mcp/cognito/credentials',\n",
    "        SecretString=json.dumps(cognito_config)\n",
    "    )\n",
    "    print(\"✓ Cognito credentials updated in Secrets Manager\")\n",
    "\n",
    "ssm_client.put_parameter(\n",
    "    Name='/credit_check_mcp/runtime/agent_arn',\n",
    "    Value=launch_result.agent_arn,\n",
    "    Type='String',\n",
    "    Description='Agent ARN for credit check MCP server',\n",
    "    Overwrite=True\n",
    ")\n",
    "print(\"✓ Agent ARN stored in Parameter Store\")\n",
    "print(f\"Agent ARN: {launch_result.agent_arn}\")"
   ]
  },
  {
   "cell_type": "markdown",
   "metadata": {},
   "source": [
    "## Step 8: Creating Strands Agent Client\n",
    "\n",
    "Now let's create a Strands agent that connects to our deployed MCP server. Strands Agents provides:\n",
    "\n",
    "* **Native MCP Support**: Built-in MCP client capabilities\n",
    "* **Tool Integration**: Seamless integration of remote MCP tools\n",
    "* **Model Agnostic**: Works with various LLM providers\n",
    "* **Agent Orchestration**: Supports multi-agent workflows\n",
    "\n",
    "The agent will retrieve credentials from AWS and connect to the remote MCP server using authenticated HTTP requests."
   ]
  },
  {
   "cell_type": "code",
   "execution_count": null,
   "metadata": {},
   "outputs": [],
   "source": [
    "from strands import Agent\n",
    "from strands.tools.mcp import MCPClient\n",
    "from mcp.client.streamable_http import streamablehttp_client\n",
    "from datetime import timedelta\n",
    "\n",
    "def create_mortgage_agent_with_mcp():\n",
    "    \"\"\"Create Strands agent connected to remote MCP server\"\"\"\n",
    "    \n",
    "    # Get credentials from AWS\n",
    "    ssm_client = boto3.client('ssm', region_name=region)\n",
    "    agent_arn_response = ssm_client.get_parameter(Name='/credit_check_mcp/runtime/agent_arn')\n",
    "    agent_arn = agent_arn_response['Parameter']['Value']\n",
    "    \n",
    "    secrets_client = boto3.client('secretsmanager', region_name=region)\n",
    "    response = secrets_client.get_secret_value(SecretId='credit_check_mcp/cognito/credentials')\n",
    "    secret_value = response['SecretString']\n",
    "    parsed_secret = json.loads(secret_value)\n",
    "    bearer_token = parsed_secret['bearer_token']\n",
    "    \n",
    "    # Build MCP URL\n",
    "    encoded_arn = agent_arn.replace(':', '%3A').replace('/', '%2F')\n",
    "    mcp_url = f\"https://bedrock-agentcore.{region}.amazonaws.com/runtimes/{encoded_arn}/invocations?qualifier=DEFAULT\"\n",
    "    headers = {\n",
    "        \"authorization\": f\"Bearer {bearer_token}\",\n",
    "        \"Content-Type\": \"application/json\"\n",
    "    }\n",
    "    \n",
    "    print(f\"🔗 Connecting to MCP server: {mcp_url}\")\n",
    "    \n",
    "    # Create MCP client\n",
    "    mcp_client = MCPClient(\n",
    "        lambda: streamablehttp_client(mcp_url, headers, timeout=timedelta(seconds=120))\n",
    "    )\n",
    "    \n",
    "    return mcp_client, mcp_url\n",
    "\n",
    "mcp_client, mcp_url = create_mortgage_agent_with_mcp()\n",
    "print(\"✓ MCP client created\")\n",
    "\n",
    "%store mcp_url"
   ]
  },
  {
   "cell_type": "markdown",
   "metadata": {},
   "source": [
    "## Step 9: Testing MCP Connection\n",
    "\n",
    "Let's test the connection between our Strands agent and the remote MCP server. This validates:\n",
    "\n",
    "* **Authentication**: JWT token is valid and accepted\n",
    "* **Network Connectivity**: Agent can reach the AgentCore Runtime\n",
    "* **MCP Protocol**: Tool discovery and registration works correctly\n",
    "* **Integration**: Strands agent can use remote MCP tools"
   ]
  },
  {
   "cell_type": "code",
   "execution_count": null,
   "metadata": {},
   "outputs": [],
   "source": [
    "try:\n",
    "    with mcp_client:\n",
    "        # Create Strands agent\n",
    "        mortgage_agent = Agent(\n",
    "            name=\"Mortgage Assistant\",\n",
    "            system_prompt=\"You help with mortgage applications. Use credit_check tool when needed.\"\n",
    "        )\n",
    "        \n",
    "        # Get tools from MCP server\n",
    "        tools = mcp_client.list_tools_sync()\n",
    "        print(f\"📋 Available tools: {[t.tool_name for t in tools]}\")\n",
    "        \n",
    "        # Add tools to agent\n",
    "        mortgage_agent.tool_registry.process_tools(tools)\n",
    "        \n",
    "        print(\"✅ Successfully connected to remote MCP server!\")\n",
    "        \n",
    "except Exception as e:\n",
    "    print(f\"❌ Connection failed: {e}\")"
   ]
  },
  {
   "cell_type": "markdown",
   "metadata": {},
   "source": [
    "## Step 10: Testing Credit Check Functionality\n",
    "\n",
    "Now let's test our mortgage assistant with real credit check queries. This demonstrates the end-to-end workflow:\n",
    "\n",
    "1. **User Query**: Natural language request for credit information\n",
    "2. **Agent Processing**: Strands agent interprets the request\n",
    "3. **Tool Invocation**: Agent calls the remote credit_check MCP tool\n",
    "4. **AgentCore Execution**: Runtime processes the MCP request\n",
    "5. **Response**: Credit score returned through the MCP protocol\n",
    "6. **Agent Response**: Natural language response to the user"
   ]
  },
  {
   "cell_type": "code",
   "execution_count": null,
   "metadata": {},
   "outputs": [],
   "source": [
    "# Test queries\n",
    "test_queries = [\n",
    "    \"What is the credit score for customer 1111?\",\n",
    "    \"Check credit for customer 2222\",\n",
    "    \"Verify creditworthiness of customer 3333\"\n",
    "]\n",
    "\n",
    "with mcp_client:\n",
    "    for query in test_queries:\n",
    "        print(f\"\\n🎯 Query: {query}\")\n",
    "        try:\n",
    "            response = mortgage_agent(query)\n",
    "            print(f\"💬 Response: {response.message}\")\n",
    "        except Exception as e:\n",
    "            print(f\"❌ Error: {e}\")"
   ]
  },
  {
   "cell_type": "markdown",
   "metadata": {},
   "source": [
    "## Benefits of This Architecture\n",
    "\n",
    "✅ **Scalability**: AgentCore automatically scales MCP servers based on demand  \n",
    "✅ **Security**: Built-in AWS authentication, authorization, and network isolation  \n",
    "✅ **Reliability**: Enterprise-grade hosting with high availability and fault tolerance  \n",
    "✅ **Flexibility**: Local agents can connect to remote services across regions  \n",
    "✅ **Standards**: MCP protocol ensures consistent tool interfaces and interoperability  \n",
    "✅ **Cost Efficiency**: Pay-per-use serverless model with no idle costs  \n",
    "✅ **Observability**: Built-in logging, monitoring, and tracing capabilities  \n",
    "\n",
    "## Next Steps\n",
    "\n",
    "Now that you have successfully deployed an MCP server to AgentCore Runtime and connected it to a Strands agent, you can:\n",
    "\n",
    "1. **Add More Tools**: Extend your MCP server with additional mortgage-related tools\n",
    "2. **Multi-Agent Systems**: Create specialized agents for different mortgage workflows\n",
    "3. **Custom Authentication**: Implement custom JWT authorizers for enterprise integration\n",
    "4. **Integration**: Integrate with other AgentCore services like Memory and Gateway\n",
    "5. **Production Deployment**: Scale to production with proper CI/CD pipelines"
   ]
  },
  {
   "cell_type": "markdown",
   "metadata": {},
   "source": [
    "## Cleanup (Optional)\n",
    "\n",
    "If you want to clean up the resources created during this tutorial, run the following cells:"
   ]
  },
  {
   "cell_type": "code",
   "execution_count": null,
   "metadata": {},
   "outputs": [],
   "source": [
    "print(\"🗑️  Starting cleanup process...\")\n",
    "\n",
    "agentcore_control_client = boto3.client('bedrock-agentcore-control', region_name=region)\n",
    "ecr_client = boto3.client('ecr', region_name=region)\n",
    "cognito_client = boto3.client('cognito-idp', region_name=region)\n",
    "\n",
    "try:\n",
    "    print(\"Deleting AgentCore Runtime...\")\n",
    "    runtime_delete_response = agentcore_control_client.delete_agent_runtime(\n",
    "        agentRuntimeId=launch_result.agent_id,\n",
    "    )\n",
    "    print(\"✓ AgentCore Runtime deletion initiated\")\n",
    "\n",
    "    print(\"Deleting ECR repository...\")\n",
    "    ecr_repo_name = launch_result.ecr_uri.split('/')[1]\n",
    "    ecr_client.delete_repository(\n",
    "        repositoryName=ecr_repo_name,\n",
    "        force=True\n",
    "    )\n",
    "    print(\"✓ ECR repository deleted\")\n",
    "\n",
    "    try:\n",
    "        ssm_client.delete_parameter(Name='/credit_check_mcp/runtime/agent_arn')\n",
    "        print(\"✓ Parameter Store parameter deleted\")\n",
    "    except ssm_client.exceptions.ParameterNotFound:\n",
    "        print(\"ℹ️  Parameter Store parameter not found\")\n",
    "        \n",
    "    try:\n",
    "        secrets_client.delete_secret(\n",
    "            SecretId='credit_check_mcp/cognito/credentials',\n",
    "            ForceDeleteWithoutRecovery=True\n",
    "        )\n",
    "        print(\"✓ Secrets Manager secret deleted\")\n",
    "    except secrets_client.exceptions.ResourceNotFoundException:\n",
    "        print(\"ℹ️  Secrets Manager secret not found\")\n",
    "\n",
    "    # Delete Cognito User Pool\n",
    "    try:\n",
    "        cognito_client.delete_user_pool(UserPoolId=cognito_config['user_pool_id'])\n",
    "        print(\"✓ Cognito User Pool deleted\")\n",
    "    except Exception as e:\n",
    "        print(f\"⚠ Error deleting Cognito User Pool: {e}\")\n",
    "\n",
    "    print(\"\\n✅ Cleanup completed successfully!\")\n",
    "    \n",
    "except Exception as e:\n",
    "    print(f\"❌ Error during cleanup: {e}\")\n",
    "    print(\"You may need to manually clean up some resources.\")"
   ]
  },
  {
   "cell_type": "markdown",
   "metadata": {},
   "source": [
    "## Benefits\n",
    "\n",
    "✅ **Scalability**: AgentCore auto-scales MCP servers  \n",
    "✅ **Security**: Built-in AWS authentication and authorization  \n",
    "✅ **Reliability**: Enterprise-grade hosting with high availability  \n",
    "✅ **Flexibility**: Local agents can connect to remote services  \n",
    "✅ **Standards**: MCP protocol ensures consistent interfaces  \n",
    "\n",
    "## Summary\n",
    "\n",
    "You have successfully:\n",
    "- Created a credit check MCP server\n",
    "- Deployed it to Bedrock AgentCore Runtime\n",
    "- Connected a local Strands agent to the remote MCP server\n",
    "- Tested the integration with real credit check queries\n",
    "\n",
    "The architecture demonstrates how to scale from local development to production-ready, cloud-hosted MCP services while maintaining the same client interface."
   ]
  }
 ],
 "metadata": {
  "kernelspec": {
   "display_name": ".venv",
   "language": "python",
   "name": "python3"
  },
  "language_info": {
   "codemirror_mode": {
    "name": "ipython",
    "version": 3
   },
   "file_extension": ".py",
   "mimetype": "text/x-python",
   "name": "python",
   "nbconvert_exporter": "python",
   "pygments_lexer": "ipython3",
   "version": "3.13.4"
  }
 },
 "nbformat": 4,
 "nbformat_minor": 4
}
